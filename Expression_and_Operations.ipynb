{
  "nbformat": 4,
  "nbformat_minor": 0,
  "metadata": {
    "colab": {
      "name": "Expression and Operations.ipynb",
      "provenance": [],
      "authorship_tag": "ABX9TyOspxWaYkmSWkeMsEpBSF8P",
      "include_colab_link": true
    },
    "kernelspec": {
      "name": "python3",
      "display_name": "Python 3"
    },
    "language_info": {
      "name": "python"
    }
  },
  "cells": [
    {
      "cell_type": "markdown",
      "metadata": {
        "id": "view-in-github",
        "colab_type": "text"
      },
      "source": [
        "<a href=\"https://colab.research.google.com/github/BenNicart/CPEN-21A-CPE-1-1/blob/main/Expression_and_Operations.ipynb\" target=\"_parent\"><img src=\"https://colab.research.google.com/assets/colab-badge.svg\" alt=\"Open In Colab\"/></a>"
      ]
    },
    {
      "cell_type": "markdown",
      "metadata": {
        "id": "w9_Y7hsKpfqm"
      },
      "source": [
        "##Boolean Operators\n",
        "###Boolean represent one or two values: True or False"
      ]
    },
    {
      "cell_type": "code",
      "metadata": {
        "colab": {
          "base_uri": "https://localhost:8080/"
        },
        "id": "BIDwMfNvpyS2",
        "outputId": "7cdf6166-8a98-4ca0-cf50-145aa341b574"
      },
      "source": [
        "print(10>9)\n",
        "print(10<9)\n",
        "print(10==9)\n",
        "print(10!=9)"
      ],
      "execution_count": 1,
      "outputs": [
        {
          "output_type": "stream",
          "name": "stdout",
          "text": [
            "True\n",
            "False\n",
            "False\n",
            "True\n"
          ]
        }
      ]
    },
    {
      "cell_type": "code",
      "metadata": {
        "colab": {
          "base_uri": "https://localhost:8080/"
        },
        "id": "_g-drWy_p1s2",
        "outputId": "8c7be33a-e95f-40a6-976b-75fd599ef30a"
      },
      "source": [
        "print(bool(True))\n",
        "print(bool(False))\n",
        "print(bool(1))\n",
        "print(bool(0))\n",
        "print(bool([]))\n",
        "print(bool(None))"
      ],
      "execution_count": 2,
      "outputs": [
        {
          "output_type": "stream",
          "name": "stdout",
          "text": [
            "True\n",
            "False\n",
            "True\n",
            "False\n",
            "False\n",
            "False\n"
          ]
        }
      ]
    },
    {
      "cell_type": "code",
      "metadata": {
        "colab": {
          "base_uri": "https://localhost:8080/"
        },
        "id": "M0gB4tCAp4b6",
        "outputId": "ccc505bf-fafc-486b-cdb6-74b38287a813"
      },
      "source": [
        "def myFunction(): return False\n",
        "\n",
        "print(myFunction())"
      ],
      "execution_count": 3,
      "outputs": [
        {
          "output_type": "stream",
          "name": "stdout",
          "text": [
            "False\n"
          ]
        }
      ]
    },
    {
      "cell_type": "code",
      "metadata": {
        "colab": {
          "base_uri": "https://localhost:8080/"
        },
        "id": "OmyVxJrcp7r2",
        "outputId": "fd4aaab6-be43-43ea-bea8-89632487fda2"
      },
      "source": [
        "##Boolean answer of a function\n",
        "def myFunction(): return False\n",
        "\n",
        "if myFunction():\n",
        "  print(\"Yes!\")\n",
        "else:\n",
        "  print(\"No!\")"
      ],
      "execution_count": 4,
      "outputs": [
        {
          "output_type": "stream",
          "name": "stdout",
          "text": [
            "No!\n"
          ]
        }
      ]
    },
    {
      "cell_type": "code",
      "metadata": {
        "colab": {
          "base_uri": "https://localhost:8080/"
        },
        "id": "iW9BEmEOqaUq",
        "outputId": "8ece1a12-21df-42c0-c124-496ca09c4965"
      },
      "source": [
        "a=6\n",
        "b=7\n",
        "print(a==b)\n",
        "print(a!=b)"
      ],
      "execution_count": 5,
      "outputs": [
        {
          "output_type": "stream",
          "name": "stdout",
          "text": [
            "False\n",
            "True\n"
          ]
        }
      ]
    },
    {
      "cell_type": "markdown",
      "metadata": {
        "id": "yFF-nklhqfLc"
      },
      "source": [
        "##Python Operators"
      ]
    },
    {
      "cell_type": "code",
      "metadata": {
        "colab": {
          "base_uri": "https://localhost:8080/"
        },
        "id": "etBvMg1iqhxW",
        "outputId": "5c72aeed-8898-4ecb-e129-6547f88f01ea"
      },
      "source": [
        "print(10+5)\n",
        "print(10-5)\n",
        "print(10*5)\n",
        "print(10/5)\n",
        "print(10//5)   #floordivision\n",
        "print(10/3)    #quotient\n",
        "print(10//3)   #floordivision\n",
        "print(10%3)    #modulo\n",
        "print(10**2)   #concatenation"
      ],
      "execution_count": 6,
      "outputs": [
        {
          "output_type": "stream",
          "name": "stdout",
          "text": [
            "15\n",
            "5\n",
            "50\n",
            "2.0\n",
            "2\n",
            "3.3333333333333335\n",
            "3\n",
            "1\n",
            "100\n"
          ]
        }
      ]
    },
    {
      "cell_type": "code",
      "metadata": {
        "colab": {
          "base_uri": "https://localhost:8080/"
        },
        "id": "dCDIN0k1qw0u",
        "outputId": "83840032-a7d9-414b-ca24-800cf71cbc54"
      },
      "source": [
        "a = 60  #0011 1100 , 0111 1000\n",
        "b = 13\n",
        "print(a&b)\n",
        "print(a|b)\n",
        "print(a<<1)\n",
        "print(a<<2)\n",
        "print(a>>1) #0011 1100 , 0001 1110"
      ],
      "execution_count": 7,
      "outputs": [
        {
          "output_type": "stream",
          "name": "stdout",
          "text": [
            "12\n",
            "61\n",
            "120\n",
            "240\n",
            "30\n"
          ]
        }
      ]
    },
    {
      "cell_type": "code",
      "metadata": {
        "colab": {
          "base_uri": "https://localhost:8080/"
        },
        "id": "Utwt2gP1qAoG",
        "outputId": "9d745832-09f5-4713-a39e-72ada32a1011"
      },
      "source": [
        "a+=2 #same as a = a + 2, a = 60 +2, a=62\n",
        "print(a)"
      ],
      "execution_count": 8,
      "outputs": [
        {
          "output_type": "stream",
          "name": "stdout",
          "text": [
            "62\n"
          ]
        }
      ]
    },
    {
      "cell_type": "markdown",
      "metadata": {
        "id": "mgzY8AIGq7BO"
      },
      "source": [
        "##Logical Operators"
      ]
    },
    {
      "cell_type": "code",
      "metadata": {
        "colab": {
          "base_uri": "https://localhost:8080/"
        },
        "id": "IJyO-9hYsIky",
        "outputId": "85f83190-b561-47c8-95c7-c4e638d77777"
      },
      "source": [
        "a=60\n",
        "b=13\n",
        "\n",
        "print((a>b)and(a<b))\n",
        "print((a>b)or(a<b))\n",
        "print(not(a>b))"
      ],
      "execution_count": 13,
      "outputs": [
        {
          "output_type": "stream",
          "name": "stdout",
          "text": [
            "False\n",
            "True\n",
            "False\n"
          ]
        }
      ]
    },
    {
      "cell_type": "markdown",
      "metadata": {
        "id": "N1JNRKdCtagi"
      },
      "source": [
        "##Identity Operators"
      ]
    },
    {
      "cell_type": "code",
      "metadata": {
        "colab": {
          "base_uri": "https://localhost:8080/"
        },
        "id": "BaCGTHsys4NW",
        "outputId": "efd436e8-8639-44c1-c902-d13fb5a09586"
      },
      "source": [
        "a=60\n",
        "b=13\n",
        "\n",
        "print(a is b)\n",
        "print (a is not b)"
      ],
      "execution_count": 16,
      "outputs": [
        {
          "output_type": "stream",
          "name": "stdout",
          "text": [
            "False\n",
            "True\n"
          ]
        }
      ]
    }
  ]
}