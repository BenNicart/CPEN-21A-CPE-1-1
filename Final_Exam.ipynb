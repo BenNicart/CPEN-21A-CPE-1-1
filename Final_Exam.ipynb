{
  "nbformat": 4,
  "nbformat_minor": 0,
  "metadata": {
    "colab": {
      "name": "Final Exam.ipynb",
      "provenance": [],
      "authorship_tag": "ABX9TyOQBetAnD+D8NVO1eyBuGFG",
      "include_colab_link": true
    },
    "kernelspec": {
      "name": "python3",
      "display_name": "Python 3"
    },
    "language_info": {
      "name": "python"
    }
  },
  "cells": [
    {
      "cell_type": "markdown",
      "metadata": {
        "id": "view-in-github",
        "colab_type": "text"
      },
      "source": [
        "<a href=\"https://colab.research.google.com/github/BenNicart/CPEN-21A-CPE-1-1/blob/main/Final_Exam.ipynb\" target=\"_parent\"><img src=\"https://colab.research.google.com/assets/colab-badge.svg\" alt=\"Open In Colab\"/></a>"
      ]
    },
    {
      "cell_type": "markdown",
      "source": [
        "##Final Exam"
      ],
      "metadata": {
        "id": "OvFLU4Oov-WP"
      }
    },
    {
      "cell_type": "markdown",
      "source": [
        "###PROBLEM STATEMENT 1"
      ],
      "metadata": {
        "id": "S4b2UEqjwXri"
      }
    },
    {
      "cell_type": "code",
      "source": [
        "number = [1, 2, 3, 3, 2, 1, 4, 4, 4, 2]\n",
        "sum = 0\n",
        "for x in number:\n",
        "    sum = sum + x\n",
        "print(\"Sum of 10 numbers that are less than 5 is: \", sum)"
      ],
      "metadata": {
        "colab": {
          "base_uri": "https://localhost:8080/"
        },
        "id": "x3C1yRqbwWPU",
        "outputId": "4923ef3d-9730-4b84-c0d6-c7f15b8ac0dd"
      },
      "execution_count": 39,
      "outputs": [
        {
          "output_type": "stream",
          "name": "stdout",
          "text": [
            "Sum of 10 numbers that are less than 5 is:  26\n"
          ]
        }
      ]
    },
    {
      "cell_type": "markdown",
      "source": [
        "###PROBLEM STATEMENT 2"
      ],
      "metadata": {
        "id": "CrAdlsHyA9Kj"
      }
    },
    {
      "cell_type": "code",
      "source": [
        "number1 = int(input(\"First: \"))\n",
        "number2 = int(input(\"Second: \"))\n",
        "number3 = int(input(\"Third: \"))\n",
        "number4 = int(input(\"Fourth: \"))\n",
        "number5 = int(input(\"Fifth: \"))\n",
        "while number1 and number5:\n",
        "  number1+=number5\n",
        "  print(\"The sum of first and fifth number is:\", number1)\n",
        "  break"
      ],
      "metadata": {
        "colab": {
          "base_uri": "https://localhost:8080/"
        },
        "id": "UnpYjj4OD9bh",
        "outputId": "5a4f24e7-2bcb-4b7a-d936-3c92c73ee6dd"
      },
      "execution_count": null,
      "outputs": [
        {
          "output_type": "stream",
          "name": "stdout",
          "text": [
            "First: 12\n",
            "Second: 21\n",
            "Third: 34\n",
            "Fourth: 21\n",
            "Fifth: 23\n",
            "The sum of first and fifth number is: 35\n"
          ]
        }
      ]
    },
    {
      "cell_type": "markdown",
      "source": [
        "###PROBLEM STATEMENT #3"
      ],
      "metadata": {
        "id": "5xQ35tCSJ72d"
      }
    },
    {
      "cell_type": "code",
      "source": [
        "grade = int(input(\"Enter your grade\"))\n",
        "if grade >= 90:\n",
        "  print(\"A\")\n",
        "elif grade <= 89 and grade >= 80:\n",
        "  print(\"B\")\n",
        "elif grade >= 70 and grade <= 79:\n",
        "  print(\"C\")\n",
        "elif grade >= 60 and grade <= 69:\n",
        "  print(\"D\")\n",
        "else:\n",
        "  print(\"F\")"
      ],
      "metadata": {
        "colab": {
          "base_uri": "https://localhost:8080/"
        },
        "id": "rDsAOU6sKAnO",
        "outputId": "d61a911b-b174-46ba-d419-88817fdd1174"
      },
      "execution_count": null,
      "outputs": [
        {
          "output_type": "stream",
          "name": "stdout",
          "text": [
            "Enter your grade55\n",
            "F\n"
          ]
        }
      ]
    }
  ]
}