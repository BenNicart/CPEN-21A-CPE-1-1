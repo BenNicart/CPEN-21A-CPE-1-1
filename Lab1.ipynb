{
  "nbformat": 4,
  "nbformat_minor": 0,
  "metadata": {
    "colab": {
      "name": "Lab1.ipynb",
      "provenance": [],
      "authorship_tag": "ABX9TyOcVWlUc13/87lubf/TzaQH",
      "include_colab_link": true
    },
    "kernelspec": {
      "name": "python3",
      "display_name": "Python 3"
    },
    "language_info": {
      "name": "python"
    }
  },
  "cells": [
    {
      "cell_type": "markdown",
      "metadata": {
        "id": "view-in-github",
        "colab_type": "text"
      },
      "source": [
        "<a href=\"https://colab.research.google.com/github/BenNicart/CPEN-21A-CPE-1-1/blob/main/Lab1.ipynb\" target=\"_parent\"><img src=\"https://colab.research.google.com/assets/colab-badge.svg\" alt=\"Open In Colab\"/></a>"
      ]
    },
    {
      "cell_type": "markdown",
      "metadata": {
        "id": "d3NDC37HVd4G"
      },
      "source": [
        "#Laboratory 1"
      ]
    },
    {
      "cell_type": "code",
      "metadata": {
        "colab": {
          "base_uri": "https://localhost:8080/"
        },
        "id": "gAM8rEpdZo3F",
        "outputId": "60e81537-09c1-4c52-ca46-030039a31076"
      },
      "source": [
        "print ('Welcome to Python Programming')"
      ],
      "execution_count": 1,
      "outputs": [
        {
          "output_type": "stream",
          "name": "stdout",
          "text": [
            "Welcome to Python Programming\n"
          ]
        }
      ]
    },
    {
      "cell_type": "code",
      "metadata": {
        "colab": {
          "base_uri": "https://localhost:8080/"
        },
        "id": "mmslf7vGVoC5",
        "outputId": "3d0d28ce-9d2e-4b2d-aba6-873c396372ed"
      },
      "source": [
        "Name = \"Ben Piolo G. Nicart\"\n",
        "Age = \"19 years old\"\n",
        "Address = \"Blk 71 Lot 29 Tahanang Yaman Homes Brgy. Buenavista 2 General Trias City Cavite\"\n",
        "print ('Name:')\n",
        "print(Name)\n",
        "print ('Age:')\n",
        "print(Age)\n",
        "print ('Address:')\n",
        "print(Address)\n"
      ],
      "execution_count": null,
      "outputs": [
        {
          "output_type": "stream",
          "name": "stdout",
          "text": [
            "Name:\n",
            "Ben Piolo G. Nicart\n",
            "Age:\n",
            "19 years old\n",
            "Address:\n",
            "Blk 71 Lot 29 Tahanang Yaman Homes Brgy. Buenavista 2 General Trias City Cavite\n"
          ]
        }
      ]
    }
  ]
}