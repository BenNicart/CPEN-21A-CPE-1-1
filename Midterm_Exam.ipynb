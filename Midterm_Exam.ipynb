{
  "nbformat": 4,
  "nbformat_minor": 0,
  "metadata": {
    "colab": {
      "name": "Midterm Exam.ipynb",
      "provenance": [],
      "authorship_tag": "ABX9TyN4n4+tthMu5Cnh9e+4tOBX",
      "include_colab_link": true
    },
    "kernelspec": {
      "name": "python3",
      "display_name": "Python 3"
    },
    "language_info": {
      "name": "python"
    }
  },
  "cells": [
    {
      "cell_type": "markdown",
      "metadata": {
        "id": "view-in-github",
        "colab_type": "text"
      },
      "source": [
        "<a href=\"https://colab.research.google.com/github/BenNicart/CPEN-21A-CPE-1-1/blob/main/Midterm_Exam.ipynb\" target=\"_parent\"><img src=\"https://colab.research.google.com/assets/colab-badge.svg\" alt=\"Open In Colab\"/></a>"
      ]
    },
    {
      "cell_type": "markdown",
      "metadata": {
        "id": "ZTwvWSClhbO8"
      },
      "source": [
        "##Midterm Exam"
      ]
    },
    {
      "cell_type": "markdown",
      "metadata": {
        "id": "0OYTyUlnhxmX"
      },
      "source": [
        "####PROBLEM 1"
      ]
    },
    {
      "cell_type": "code",
      "metadata": {
        "colab": {
          "base_uri": "https://localhost:8080/"
        },
        "id": "wTLqAzbJhRuF",
        "outputId": "f6198753-cc97-4cc1-e031-ded9ee27b4d3"
      },
      "source": [
        "a = \"Ben Piolo Garcia Nicart\"\n",
        "print('Full Name:')\n",
        "print(a)\n",
        "b = \"202101441\"\n",
        "print('Student Number:')\n",
        "print(b)\n",
        "c = \"19 years old\"\n",
        "print('Age:')\n",
        "print(c)\n",
        "d = \"June 08, 2002\"\n",
        "print('Birthday:')\n",
        "print(d)\n",
        "e = \"Blk 71 Lot 29, Tahanang Yaman Homes, Brgy. Buenavista 2, General Trias City, Cavite\"\n",
        "print('Address:')\n",
        "print(e)\n",
        "f = \"Bachelor of Science in Computer Engineering\"\n",
        "print('Course:')\n",
        "print(f)\n",
        "g = \"93\"\n",
        "print('GWA:')\n",
        "print(g)"
      ],
      "execution_count": 2,
      "outputs": [
        {
          "output_type": "stream",
          "name": "stdout",
          "text": [
            "Full Name:\n",
            "Ben Piolo Garcia Nicart\n",
            "Student Number:\n",
            "202101441\n",
            "Age:\n",
            "19 years old\n",
            "Birthday:\n",
            "June 08, 2002\n",
            "Address:\n",
            "Blk 71 Lot 29, Tahanang Yaman Homes, Brgy. Buenavista 2, General Trias City, Cavite\n",
            "Course:\n",
            "Bachelor of Science in Computer Engineering\n",
            "GWA:\n",
            "93\n"
          ]
        }
      ]
    },
    {
      "cell_type": "markdown",
      "metadata": {
        "id": "uS8q-e0Wj99Y"
      },
      "source": [
        "###PROBLEM 2"
      ]
    },
    {
      "cell_type": "code",
      "metadata": {
        "colab": {
          "base_uri": "https://localhost:8080/"
        },
        "id": "UcYyQl-nkEzU",
        "outputId": "d91a3c8c-65bd-403b-f5db-82e862fd7006"
      },
      "source": [
        "n=4\n",
        "answ=\"Y\"\n",
        "print((2<n)and(n<6)) #a\n",
        "print((2<n)or(n==6)) #b\n",
        "print(not(2<n)or(n==6)) #c\n",
        "print(not(n<6)) #d\n",
        "print((answ=='Y')or(answ=='y')) #e\n",
        "print((answ=='Y')and(answ=='y')) #f\n",
        "print(not(answ=='y')) #g\n",
        "print((2<n)and(n==5+1)or(answ==\"No\")) #h\n",
        "print((n==2)and(n==7)or(answ==\"Y\")) #i\n",
        "print((n==2)and((n==7)or(answ==\"Y\"))) #j\n"
      ],
      "execution_count": 33,
      "outputs": [
        {
          "output_type": "stream",
          "name": "stdout",
          "text": [
            "True\n",
            "True\n",
            "False\n",
            "False\n",
            "True\n",
            "False\n",
            "True\n",
            "False\n",
            "True\n",
            "False\n"
          ]
        }
      ]
    },
    {
      "cell_type": "markdown",
      "metadata": {
        "id": "EiNmKvY7qMO3"
      },
      "source": [
        "###PROBLEM 3"
      ]
    },
    {
      "cell_type": "code",
      "metadata": {
        "colab": {
          "base_uri": "https://localhost:8080/"
        },
        "id": "if3w2diqqKNc",
        "outputId": "8ce85a73-4842-4c54-b142-b882136775e1"
      },
      "source": [
        "x=2\n",
        "y=-3\n",
        "w=7\n",
        "z=-10\n",
        "print(x/y) #a\n",
        "print(w/y/x) #b\n",
        "print(z/y%x) #c\n",
        "print(x%-y*w) #d\n",
        "print(x%y) #e\n",
        "print(z%w-y/x*5+5) #f\n",
        "print(9-x%(2+y)) #g\n",
        "print(z//w) #h\n",
        "print((2+y)**2) #i\n",
        "print(w/x*2) #j"
      ],
      "execution_count": 44,
      "outputs": [
        {
          "output_type": "stream",
          "name": "stdout",
          "text": [
            "-0.6666666666666666\n",
            "-1.1666666666666667\n",
            "1.3333333333333335\n",
            "14\n",
            "-1\n",
            "16.5\n",
            "9\n",
            "-2\n",
            "1\n",
            "7.0\n"
          ]
        }
      ]
    }
  ]
}